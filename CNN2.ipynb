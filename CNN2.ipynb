{
  "nbformat": 4,
  "nbformat_minor": 0,
  "metadata": {
    "colab": {
      "provenance": [],
      "authorship_tag": "ABX9TyOPQBiKq9VE0UZJkFKtK6ko",
      "include_colab_link": true
    },
    "kernelspec": {
      "name": "python3",
      "display_name": "Python 3"
    },
    "language_info": {
      "name": "python"
    }
  },
  "cells": [
    {
      "cell_type": "markdown",
      "metadata": {
        "id": "view-in-github",
        "colab_type": "text"
      },
      "source": [
        "<a href=\"https://colab.research.google.com/github/Alton1998/Tensorflow-tutorial-2.0/blob/main/CNN2.ipynb\" target=\"_parent\"><img src=\"https://colab.research.google.com/assets/colab-badge.svg\" alt=\"Open In Colab\"/></a>"
      ]
    },
    {
      "cell_type": "code",
      "execution_count": 1,
      "metadata": {
        "id": "aMe-sGAleFmW"
      },
      "outputs": [],
      "source": [
        "import pandas as pd\n",
        "import numpy as np\n",
        "import matplotlib.pyplot as plt"
      ]
    },
    {
      "cell_type": "code",
      "source": [
        "from tensorflow.keras.datasets import cifar10"
      ],
      "metadata": {
        "id": "cjwAG7abfLBM"
      },
      "execution_count": 2,
      "outputs": []
    },
    {
      "cell_type": "code",
      "source": [
        "(x_train,y_train),(x_test,y_test) = cifar10.load_data()"
      ],
      "metadata": {
        "colab": {
          "base_uri": "https://localhost:8080/"
        },
        "id": "TNohdq4wfTCV",
        "outputId": "28a70e13-44be-4bf8-843b-afeaabcf107f"
      },
      "execution_count": 3,
      "outputs": [
        {
          "output_type": "stream",
          "name": "stdout",
          "text": [
            "Downloading data from https://www.cs.toronto.edu/~kriz/cifar-10-python.tar.gz\n",
            "170498071/170498071 [==============================] - 11s 0us/step\n"
          ]
        }
      ]
    },
    {
      "cell_type": "code",
      "source": [
        "x_train.shape"
      ],
      "metadata": {
        "colab": {
          "base_uri": "https://localhost:8080/"
        },
        "id": "oDEg_oJsg31t",
        "outputId": "4f85707f-1e4f-4933-b3b6-9dd6a6ebae3c"
      },
      "execution_count": 4,
      "outputs": [
        {
          "output_type": "execute_result",
          "data": {
            "text/plain": [
              "(50000, 32, 32, 3)"
            ]
          },
          "metadata": {},
          "execution_count": 4
        }
      ]
    },
    {
      "cell_type": "code",
      "source": [
        "from tensorflow.keras.utils import to_categorical"
      ],
      "metadata": {
        "id": "pN4G3j6dg9MW"
      },
      "execution_count": 5,
      "outputs": []
    },
    {
      "cell_type": "code",
      "source": [
        "y_cat_train = to_categorical(y_train)\n",
        "y_cat_test = to_categorical(y_test)"
      ],
      "metadata": {
        "id": "jeVqfb0bg8FQ"
      },
      "execution_count": 6,
      "outputs": []
    },
    {
      "cell_type": "code",
      "source": [
        "from tensorflow.keras.models import Sequential\n",
        "from tensorflow.keras.layers import Dense,Conv2D,MaxPool2D,Flatten"
      ],
      "metadata": {
        "id": "mcfZQfCMlCqi"
      },
      "execution_count": 7,
      "outputs": []
    },
    {
      "cell_type": "code",
      "source": [
        "model = Sequential()\n",
        "model.add(Conv2D(filters=32,kernel_size=(1,1),input_shape=(32,32,3),activation='relu'))\n",
        "model.add(MaxPool2D(pool_size=(2,2)))\n",
        "model.add(Conv2D(filters=32,kernel_size=(1,1),input_shape=(32,32,3),activation='relu'))\n",
        "model.add(MaxPool2D(pool_size=(2,2)))\n",
        "model.add(Flatten())\n",
        "model.add(Dense(256,activation='relu'))\n",
        "model.add(Dense(128,activation='relu'))\n",
        "model.add(Dense(10,activation='softmax'))\n",
        "model.compile(loss='categorical_crossentropy',optimizer='adam',metrics=['accuracy'])"
      ],
      "metadata": {
        "id": "CP_wLVIFlHlh"
      },
      "execution_count": 9,
      "outputs": []
    },
    {
      "cell_type": "code",
      "source": [
        "from tensorflow.keras.callbacks import EarlyStopping\n",
        "early_stop = EarlyStopping(monitor='val_loss',patience=1)"
      ],
      "metadata": {
        "id": "WfBZkdgAoTMO"
      },
      "execution_count": 10,
      "outputs": []
    },
    {
      "cell_type": "code",
      "source": [
        "model.fit(x_train,y_cat_train,epochs=20,validation_data=(x_test,y_cat_test),callbacks=[early_stop])"
      ],
      "metadata": {
        "colab": {
          "base_uri": "https://localhost:8080/"
        },
        "id": "IKQkMIAroaEH",
        "outputId": "9878c52b-43ca-41e6-e972-342bd14d63a5"
      },
      "execution_count": 13,
      "outputs": [
        {
          "output_type": "stream",
          "name": "stdout",
          "text": [
            "Epoch 1/20\n",
            "1563/1563 [==============================] - 40s 25ms/step - loss: 2.4553 - accuracy: 0.3565 - val_loss: 1.6273 - val_accuracy: 0.4178\n",
            "Epoch 2/20\n",
            "1563/1563 [==============================] - 38s 25ms/step - loss: 1.5700 - accuracy: 0.4400 - val_loss: 1.5209 - val_accuracy: 0.4654\n",
            "Epoch 3/20\n",
            "1563/1563 [==============================] - 39s 25ms/step - loss: 1.4979 - accuracy: 0.4683 - val_loss: 1.4685 - val_accuracy: 0.4818\n",
            "Epoch 4/20\n",
            "1563/1563 [==============================] - 39s 25ms/step - loss: 1.4462 - accuracy: 0.4891 - val_loss: 1.4244 - val_accuracy: 0.5006\n",
            "Epoch 5/20\n",
            "1563/1563 [==============================] - 40s 25ms/step - loss: 1.3784 - accuracy: 0.5137 - val_loss: 1.4240 - val_accuracy: 0.4997\n",
            "Epoch 6/20\n",
            "1563/1563 [==============================] - 40s 25ms/step - loss: 1.3213 - accuracy: 0.5326 - val_loss: 1.3657 - val_accuracy: 0.5245\n",
            "Epoch 7/20\n",
            "1563/1563 [==============================] - 39s 25ms/step - loss: 1.2620 - accuracy: 0.5526 - val_loss: 1.3727 - val_accuracy: 0.5225\n"
          ]
        },
        {
          "output_type": "execute_result",
          "data": {
            "text/plain": [
              "<keras.src.callbacks.History at 0x7a8a464dc370>"
            ]
          },
          "metadata": {},
          "execution_count": 13
        }
      ]
    }
  ]
}